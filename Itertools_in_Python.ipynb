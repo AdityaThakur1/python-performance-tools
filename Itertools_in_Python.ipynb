{
  "nbformat": 4,
  "nbformat_minor": 0,
  "metadata": {
    "colab": {
      "name": "Itertools in Python.ipynb",
      "provenance": [],
      "collapsed_sections": []
    },
    "kernelspec": {
      "name": "python3",
      "display_name": "Python 3"
    },
    "language_info": {
      "name": "python"
    }
  },
  "cells": [
    {
      "cell_type": "code",
      "source": [
        "## Itertools in Python\n"
      ],
      "metadata": {
        "id": "T25T2nDe3DLp"
      },
      "execution_count": 21,
      "outputs": []
    },
    {
      "cell_type": "markdown",
      "source": [
        "### Iterators\n",
        "\n",
        "- Functions creating iterators for efficient looping (check the efficiency of for loop vs iterables using timeit)\n",
        "- Used to access elements from iterable on-demand\n",
        "- Identified using _iter()_ and _next()_ methods\n",
        "\n",
        "Itertools documentation: https://docs.python.org/3/library/itertools.html"
      ],
      "metadata": {
        "id": "jiBdwBQ54ZTv"
      }
    },
    {
      "cell_type": "code",
      "source": [
        "#itertools gives the state of the object\n",
        "import itertools\n",
        "\n",
        "nums= [1,2,3,4,5]\n",
        "iter_list = iter(nums)\n",
        "\n",
        "print(next(iter_list)) #gives value from first index; on next(iter) call it will give value from 2nd index; so this is call maintaining (iteration) state of object\n",
        "print('before for loop')\n",
        "for i in iter_list:\n",
        "  print(i)\n",
        "  if i ==2:\n",
        "    break\n",
        "\n",
        "\n",
        "print('after for loop')\n",
        "print(next(iter_list))\n",
        "\n",
        "print('iter_list ' + str(iter_list))\n"
      ],
      "metadata": {
        "colab": {
          "base_uri": "https://localhost:8080/"
        },
        "id": "C0VdSbin3UAq",
        "outputId": "5b62a620-5a93-4483-d45d-5fd05f220e15"
      },
      "execution_count": 22,
      "outputs": [
        {
          "output_type": "stream",
          "name": "stdout",
          "text": [
            "1\n",
            "before for loop\n",
            "2\n",
            "after for loop\n",
            "3\n",
            "iter_list <list_iterator object at 0x7f9b35971690>\n"
          ]
        }
      ]
    },
    {
      "cell_type": "code",
      "source": [
        "iter_string = iter('advanced_python')\n",
        "\n",
        "#for i in iter_string: \n",
        "  #print(i)\n",
        "\n",
        "print(next(iter_string))\n",
        "print(next(iter_string))\n",
        "print(next(iter_string))\n",
        "print(iter_string.__next__())\n",
        "print(list(iter_string))"
      ],
      "metadata": {
        "colab": {
          "base_uri": "https://localhost:8080/"
        },
        "id": "bWG1jCfM4Ngj",
        "outputId": "37a40625-0b13-4c17-e5f3-81963d9e69e5"
      },
      "execution_count": 23,
      "outputs": [
        {
          "output_type": "stream",
          "name": "stdout",
          "text": [
            "a\n",
            "d\n",
            "v\n",
            "a\n",
            "['n', 'c', 'e', 'd', '_', 'p', 'y', 't', 'h', 'o', 'n']\n"
          ]
        }
      ]
    },
    {
      "cell_type": "markdown",
      "source": [
        "The idea comes from Generator. \n",
        "\n",
        "- A Generator is a function that uses the `yield` expression\n",
        "- Saves the state of the function.\n",
        "- lazy loading - fetch the data only when it is required\n"
      ],
      "metadata": {
        "id": "l9E3H8OdAIJp"
      }
    },
    {
      "cell_type": "code",
      "source": [
        "import itertools\n",
        "# function version\n",
        "def squareNumbers(n):\n",
        "    result = []\n",
        "    for i in n:\n",
        "        result.append(i*i)\n",
        "    return result\n",
        "\n",
        "print(squareNumbers([1,2,3,4,5]))\n",
        "\n",
        "\n",
        "# generator version\n",
        "def genSquareNumbers(n):\n",
        "    for i in n:\n",
        "        yield i*i\n",
        "\n",
        "gensquares = genSquareNumbers([1,2,3,4,5]) #stores result somewhere in the memory\n",
        "#calling next(gen) yields the next value in the iteration.\n",
        "print(next(gensquares)) #lazy loading the data\n",
        "\n",
        "print('before for loop')\n",
        "\n",
        "for i,x in enumerate(gensquares):\n",
        "    print(x)\n",
        "    if x == 16:\n",
        "      break\n",
        "      \n",
        "print('after for loop')\n",
        "print(next(gensquares))"
      ],
      "metadata": {
        "colab": {
          "base_uri": "https://localhost:8080/"
        },
        "id": "uEweDXsvAJMZ",
        "outputId": "2250c18e-e97f-4a0a-c6d6-463581a51298"
      },
      "execution_count": 24,
      "outputs": [
        {
          "output_type": "stream",
          "name": "stdout",
          "text": [
            "[1, 4, 9, 16, 25]\n",
            "1\n",
            "before for loop\n",
            "4\n",
            "9\n",
            "16\n",
            "after for loop\n",
            "25\n"
          ]
        }
      ]
    },
    {
      "cell_type": "markdown",
      "source": [
        "### Infinite iterators:\n",
        "count(); cycle(); repeat()\n"
      ],
      "metadata": {
        "id": "JkI2JzRVCPKE"
      }
    },
    {
      "cell_type": "code",
      "source": [
        "counter = itertools.count() #defaults starts with 0 and increases by 1\n",
        "print(next(counter))\n",
        "print(next(counter))\n",
        "print(next(counter))\n",
        "print(next(counter))\n",
        "print('before for loop ')\n",
        "for i in counter:\n",
        "  print(i)\n",
        "  if i == 5:\n",
        "    break"
      ],
      "metadata": {
        "colab": {
          "base_uri": "https://localhost:8080/"
        },
        "id": "ASb8ZVqol2qM",
        "outputId": "a834b4ab-9c43-421f-aa55-da4cf95bd179"
      },
      "execution_count": 25,
      "outputs": [
        {
          "output_type": "stream",
          "name": "stdout",
          "text": [
            "0\n",
            "1\n",
            "2\n",
            "3\n",
            "before for loop \n",
            "4\n",
            "5\n"
          ]
        }
      ]
    },
    {
      "cell_type": "code",
      "source": [
        "count_dic = list(zip(itertools.count(),[10,20,30,40,50,60]))\n",
        "\n",
        "print(count_dic)"
      ],
      "metadata": {
        "colab": {
          "base_uri": "https://localhost:8080/"
        },
        "id": "ixx07bYInOgd",
        "outputId": "0f695dac-4402-4485-9054-b7537415c5bc"
      },
      "execution_count": 26,
      "outputs": [
        {
          "output_type": "stream",
          "name": "stdout",
          "text": [
            "[(0, 10), (1, 20), (2, 30), (3, 40), (4, 50), (5, 60)]\n"
          ]
        }
      ]
    },
    {
      "cell_type": "code",
      "source": [
        "cycle_counter = itertools.cycle(['on','off','bet'])\n",
        "\n",
        "count_dic = list(zip(cycle_counter,[10,20,30,40,50,60]))\n",
        "\n",
        "print(count_dic)"
      ],
      "metadata": {
        "colab": {
          "base_uri": "https://localhost:8080/"
        },
        "id": "H_1RhM3sooI6",
        "outputId": "e270f37b-082d-43fe-b1fc-c44267aa3724"
      },
      "execution_count": 27,
      "outputs": [
        {
          "output_type": "stream",
          "name": "stdout",
          "text": [
            "[('on', 10), ('off', 20), ('bet', 30), ('on', 40), ('off', 50), ('bet', 60)]\n"
          ]
        }
      ]
    },
    {
      "cell_type": "code",
      "source": [
        "repeat_counter = itertools.repeat(20, 10)\n",
        "for i in repeat_counter:\n",
        "  print(i)\n"
      ],
      "metadata": {
        "colab": {
          "base_uri": "https://localhost:8080/"
        },
        "id": "RSqOlQdQo94y",
        "outputId": "21141349-3f94-4715-bea7-1b1bb3d878fb"
      },
      "execution_count": 28,
      "outputs": [
        {
          "output_type": "stream",
          "name": "stdout",
          "text": [
            "20\n",
            "20\n",
            "20\n",
            "20\n",
            "20\n",
            "20\n",
            "20\n",
            "20\n",
            "20\n",
            "20\n"
          ]
        }
      ]
    },
    {
      "cell_type": "code",
      "source": [
        "## Example repeat() application\n",
        "'''map() function returns a map object(which is an iterator)\n",
        " of the results after applying the given function to each item of a given iterable (list, tuple etc.)'''\n",
        "\n",
        "pow_list = list(map(pow, range(12), itertools.repeat(2)))     # list of squares\n",
        "print(pow_list)"
      ],
      "metadata": {
        "colab": {
          "base_uri": "https://localhost:8080/"
        },
        "id": "DLt-ipN9pYlL",
        "outputId": "9325fcbc-28dd-4593-c70d-e71c8696d7e8"
      },
      "execution_count": 29,
      "outputs": [
        {
          "output_type": "stream",
          "name": "stdout",
          "text": [
            "[0, 1, 4, 9, 16, 25, 36, 49, 64, 81, 100, 121]\n"
          ]
        }
      ]
    },
    {
      "cell_type": "markdown",
      "source": [
        "### Starmap: similar to map, takes list of tuples as arguments"
      ],
      "metadata": {
        "id": "ghNhl3m7q8Nh"
      }
    },
    {
      "cell_type": "code",
      "source": [
        "print (list((0,10)))\n",
        "print(pow(2,3))"
      ],
      "metadata": {
        "colab": {
          "base_uri": "https://localhost:8080/"
        },
        "id": "obPwxIOpqI7f",
        "outputId": "6de01ea8-4bf4-4bc1-8903-2fe9c53483cc"
      },
      "execution_count": 30,
      "outputs": [
        {
          "output_type": "stream",
          "name": "stdout",
          "text": [
            "[0, 10]\n",
            "8\n"
          ]
        }
      ]
    },
    {
      "cell_type": "code",
      "source": [
        "squares = itertools.starmap(pow, [(0,2), (1,2), (2,2), (3,3)])\n",
        "print(list(squares))"
      ],
      "metadata": {
        "colab": {
          "base_uri": "https://localhost:8080/"
        },
        "id": "2oTiyqnoqAgF",
        "outputId": "8a26e3c5-95e7-486c-f848-6f8955798a3b"
      },
      "execution_count": 31,
      "outputs": [
        {
          "output_type": "stream",
          "name": "stdout",
          "text": [
            "[0, 1, 4, 27]\n"
          ]
        }
      ]
    },
    {
      "cell_type": "markdown",
      "source": [
        "### Chain: Loops through iterables"
      ],
      "metadata": {
        "id": "dcBd7ieqrHXY"
      }
    },
    {
      "cell_type": "code",
      "source": [
        "letters = itertools.repeat('a',3)\n",
        "numbers = [1,2,3,4,5]\n",
        "names = ['Michael','Creed']\n",
        "\n",
        "combined = itertools.chain(letters, numbers, names)\n",
        "\n",
        "for item in combined:\n",
        "    print(item)"
      ],
      "metadata": {
        "colab": {
          "base_uri": "https://localhost:8080/"
        },
        "id": "zEI1Xuu0rOyv",
        "outputId": "f947bb72-59d9-4f00-9bf4-5ac6de3126ec"
      },
      "execution_count": 32,
      "outputs": [
        {
          "output_type": "stream",
          "name": "stdout",
          "text": [
            "a\n",
            "a\n",
            "a\n",
            "1\n",
            "2\n",
            "3\n",
            "4\n",
            "5\n",
            "Michael\n",
            "Creed\n"
          ]
        }
      ]
    },
    {
      "cell_type": "markdown",
      "source": [
        "### Accumulate: Accumulated result of functions\n"
      ],
      "metadata": {
        "id": "JTrY6PF4wStb"
      }
    },
    {
      "cell_type": "code",
      "source": [
        "#numbers - 1,2,3,4,5\n",
        "import operator\n",
        "result_sum = itertools.accumulate(numbers) # running sum\n",
        "print(list(result_sum))\n",
        "#[(1), (1+2), (3+3), (6+4), (10+5)]\n",
        "\n",
        "result_prod = itertools.accumulate(numbers, operator.mul) # running product\n",
        "# result_prod = itertools.accumulate(numbers, lambda x,y: x*y)\n",
        "print(list(result_prod))\n",
        "#[(1),(1*2),(2*3),(6*4), (24*5)]"
      ],
      "metadata": {
        "colab": {
          "base_uri": "https://localhost:8080/"
        },
        "id": "tLbOyV6YwQGw",
        "outputId": "c121bcac-fcdc-4cdd-d6b2-468bffe26da4"
      },
      "execution_count": 33,
      "outputs": [
        {
          "output_type": "stream",
          "name": "stdout",
          "text": [
            "[1, 3, 6, 10, 15]\n",
            "[1, 2, 6, 24, 120]\n"
          ]
        }
      ]
    },
    {
      "cell_type": "markdown",
      "source": [
        "### Combinatoric iterators:\n",
        "product(); permutations(); combinations(); combinations_with_replacement()"
      ],
      "metadata": {
        "id": "r1bhyP0sxUBH"
      }
    },
    {
      "cell_type": "code",
      "source": [
        "#Combinations # order does matter\n",
        "letters = ['a','b','c','d']\n",
        "result = itertools.combinations(letters,2)\n",
        "\n",
        "for item in result:\n",
        "    print(item)"
      ],
      "metadata": {
        "colab": {
          "base_uri": "https://localhost:8080/"
        },
        "id": "jrJ5n6K_xVDR",
        "outputId": "77305b4f-533d-4cd3-bbdb-63fd94260bd4"
      },
      "execution_count": 34,
      "outputs": [
        {
          "output_type": "stream",
          "name": "stdout",
          "text": [
            "('a', 'b')\n",
            "('a', 'c')\n",
            "('a', 'd')\n",
            "('b', 'c')\n",
            "('b', 'd')\n",
            "('c', 'd')\n"
          ]
        }
      ]
    },
    {
      "cell_type": "code",
      "source": [
        "#Permutations # order does not matter\n",
        "result = itertools.permutations(letters,3)\n",
        "\n",
        "for item in result:\n",
        "    print(item)"
      ],
      "metadata": {
        "colab": {
          "base_uri": "https://localhost:8080/"
        },
        "id": "xku9lQZsxY_P",
        "outputId": "3fb018db-c73b-4f71-c2dc-dc322bee7046"
      },
      "execution_count": 35,
      "outputs": [
        {
          "output_type": "stream",
          "name": "stdout",
          "text": [
            "('a', 'b', 'c')\n",
            "('a', 'b', 'd')\n",
            "('a', 'c', 'b')\n",
            "('a', 'c', 'd')\n",
            "('a', 'd', 'b')\n",
            "('a', 'd', 'c')\n",
            "('b', 'a', 'c')\n",
            "('b', 'a', 'd')\n",
            "('b', 'c', 'a')\n",
            "('b', 'c', 'd')\n",
            "('b', 'd', 'a')\n",
            "('b', 'd', 'c')\n",
            "('c', 'a', 'b')\n",
            "('c', 'a', 'd')\n",
            "('c', 'b', 'a')\n",
            "('c', 'b', 'd')\n",
            "('c', 'd', 'a')\n",
            "('c', 'd', 'b')\n",
            "('d', 'a', 'b')\n",
            "('d', 'a', 'c')\n",
            "('d', 'b', 'a')\n",
            "('d', 'b', 'c')\n",
            "('d', 'c', 'a')\n",
            "('d', 'c', 'b')\n"
          ]
        }
      ]
    },
    {
      "cell_type": "markdown",
      "source": [
        "# Examples"
      ],
      "metadata": {
        "id": "jhAYAo0f_zdM"
      }
    },
    {
      "cell_type": "markdown",
      "source": [
        "### eg. 1: Generate Combination/Permutation for a set of integers"
      ],
      "metadata": {
        "id": "hMgyWCOy_xlz"
      }
    },
    {
      "cell_type": "code",
      "source": [
        "def combinations(lis):\n",
        "    \n",
        "    combinations = [itertools.combinations(lis, r) for r in range(len(lis)+1)] #r = 0,1,2,3\n",
        "    \n",
        "    return list(itertools.chain(*combinations))\n",
        "\n",
        "print(combinations([1,2,3]))\n",
        "\n",
        "\n",
        "def permutations(lis):\n",
        "  permutations = [itertools.permutations(lis, r) for r in range(len(lis)+1)] #r = 0,1,2,3\n",
        "  return list(itertools.chain(*permutations))\n",
        "\n",
        "print(permutations([1,2,3]))\n",
        "\n"
      ],
      "metadata": {
        "colab": {
          "base_uri": "https://localhost:8080/"
        },
        "id": "jTJKjEVM_5Wo",
        "outputId": "acbce65a-cee5-4b45-fb2f-4b0a57d312a1"
      },
      "execution_count": 36,
      "outputs": [
        {
          "output_type": "stream",
          "name": "stdout",
          "text": [
            "[(), (1,), (2,), (3,), (1, 2), (1, 3), (2, 3), (1, 2, 3)]\n",
            "[(), (1,), (2,), (3,), (1, 2), (1, 3), (2, 1), (2, 3), (3, 1), (3, 2), (1, 2, 3), (1, 3, 2), (2, 1, 3), (2, 3, 1), (3, 1, 2), (3, 2, 1)]\n"
          ]
        }
      ]
    },
    {
      "cell_type": "code",
      "source": [
        "import itertools as it\n",
        "def first_order(p, q, initial_val):\n",
        "    \"\"\"Return sequence defined by s(n) = p * s(n-1) + q.\"\"\"\n",
        "   # return it.accumulate(it.repeat(initial_val), lambda s, _: p*s + q)\n",
        "    return it.accumulate([0,0,0,0,0,0,0,0], lambda s, _: p*s + q)\n",
        "'''(0, 0+(1*0+2))\n",
        "[0,0,0,0.....]\n",
        "[0,]\n",
        "'''\n",
        "evens = first_order(p=1, q=2, initial_val=0)\n",
        "odds = first_order(p=1, q=2, initial_val=1)\n",
        "print(list(next(evens) for _ in range(6)))\n",
        "print(list(next(odds) for _ in range(5)))"
      ],
      "metadata": {
        "colab": {
          "base_uri": "https://localhost:8080/"
        },
        "id": "icrvF0HDGGL4",
        "outputId": "96e94108-e0a8-4779-d654-0fde3690ec44"
      },
      "execution_count": 37,
      "outputs": [
        {
          "output_type": "stream",
          "name": "stdout",
          "text": [
            "[0, 2, 4, 6, 8, 10]\n",
            "[0, 2, 4, 6, 8]\n"
          ]
        }
      ]
    },
    {
      "cell_type": "markdown",
      "source": [
        "https://www.youtube.com/watch?v=Qu3dThVy6KQ&t=398s"
      ],
      "metadata": {
        "id": "Ul3vIpTtxxTC"
      }
    }
  ]
}