{
  "nbformat": 4,
  "nbformat_minor": 0,
  "metadata": {
    "colab": {
      "name": "Python performance tuning.ipynb",
      "provenance": [],
      "collapsed_sections": []
    },
    "kernelspec": {
      "name": "python3",
      "display_name": "Python 3"
    },
    "language_info": {
      "name": "python"
    }
  },
  "cells": [
    {
      "cell_type": "markdown",
      "source": [
        "### **## Python Performance Tuning**"
      ],
      "metadata": {
        "id": "8Rz-VnQsq56B"
      }
    },
    {
      "cell_type": "markdown",
      "source": [
        "**Timing python code**\n",
        "\n",
        "\n",
        "1.   Command line\n",
        "2.   Python Interface\n",
        "\n"
      ],
      "metadata": {
        "id": "1MVJQVk7qv4N"
      }
    },
    {
      "cell_type": "code",
      "execution_count": null,
      "metadata": {
        "id": "TrVyfEvMppbX",
        "colab": {
          "base_uri": "https://localhost:8080/"
        },
        "outputId": "3c064298-50e5-4bf8-d4aa-6fc74fea4875"
      },
      "outputs": [
        {
          "output_type": "stream",
          "name": "stdout",
          "text": [
            "The slowest run took 88.38 times longer than the fastest. This could mean that an intermediate result is being cached.\n",
            "100000000 loops, best of 5: 12.8 ns per loop\n"
          ]
        }
      ],
      "source": [
        "#timeit module - Measure execution time of small code snippets\n",
        "#reference - https://docs.python.org/3/library/timeit.html\n",
        "# default 1 million\n",
        "# best of - average of least 5 timing recorded\n",
        "\n",
        "\n",
        "'''\n",
        "for cmd \n",
        "python -m timeit 3+3\n",
        "'''\n",
        "%timeit 3+3"
      ]
    },
    {
      "cell_type": "code",
      "source": [
        "import timeit\n",
        "\n",
        "def multiply_func(x):\n",
        "    return x * x\n",
        "\n",
        "%timeit multiply_func(3)\n",
        "\n",
        "#%timeit -n 10 -r 2 multiply_func(3)\n",
        "\n",
        "#-n how many times to execute ‘statement’\n",
        "#-r best(average) x of the loop (default 5)"
      ],
      "metadata": {
        "id": "0w2ASGe9ttAC",
        "colab": {
          "base_uri": "https://localhost:8080/"
        },
        "outputId": "bf21cb70-e3df-4f6e-a1e2-dad183b07d61"
      },
      "execution_count": null,
      "outputs": [
        {
          "output_type": "stream",
          "name": "stdout",
          "text": [
            "The slowest run took 10.64 times longer than the fastest. This could mean that an intermediate result is being cached.\n",
            "10000000 loops, best of 5: 113 ns per loop\n"
          ]
        }
      ]
    },
    {
      "cell_type": "code",
      "source": [
        "#globals() - this will cause the code to be executed within your current global namespace.\n",
        "#this is for convenience so that no specific imports are needed\n",
        "\n",
        "import timeit\n",
        "\n",
        "totalTime = timeit.timeit('\"-\".join(str(n) for n in range(100))', number=10000)\n",
        "#x = \"-\".join(str(n) for n in range(1000))\n",
        "#print(x)\n",
        "\n",
        "print(totalTime/10000)"
      ],
      "metadata": {
        "id": "zC4p1ynBrUI_",
        "colab": {
          "base_uri": "https://localhost:8080/"
        },
        "outputId": "bac64ec2-6b90-4fd7-dcfa-8f1f7ea3e086"
      },
      "execution_count": null,
      "outputs": [
        {
          "output_type": "stream",
          "name": "stdout",
          "text": [
            "2.5577715700001135e-05\n"
          ]
        }
      ]
    },
    {
      "cell_type": "markdown",
      "source": [
        "**### Data Structure Choice: List Dictionary**"
      ],
      "metadata": {
        "id": "Azjuc6VIuL1y"
      }
    },
    {
      "cell_type": "markdown",
      "source": [
        "### **List**\n",
        "\n",
        "**- Searching for an element in list takes O(N)**"
      ],
      "metadata": {
        "id": "pUDwBObruR_I"
      }
    },
    {
      "cell_type": "code",
      "source": [
        "#simple search example\n",
        "\n",
        "letters = 'ASD' #FGHJKLQWERTYUIOPZXCVBNM'\n",
        "\n",
        "letters_list = [x + y + z \n",
        "                for x in letters\n",
        "                  for y in letters\n",
        "                    for z in letters]\n",
        "\n",
        "print(letters_list[5:])"
      ],
      "metadata": {
        "colab": {
          "base_uri": "https://localhost:8080/"
        },
        "id": "rM2YiTG4urRT",
        "outputId": "575555cd-81eb-4f89-8c2a-bdb5cef395cd"
      },
      "execution_count": null,
      "outputs": [
        {
          "output_type": "stream",
          "name": "stdout",
          "text": [
            "['ASD', 'ADA', 'ADS', 'ADD', 'SAA', 'SAS', 'SAD', 'SSA', 'SSS', 'SSD', 'SDA', 'SDS', 'SDD', 'DAA', 'DAS', 'DAD', 'DSA', 'DSS', 'DSD', 'DDA', 'DDS', 'DDD']\n"
          ]
        }
      ]
    },
    {
      "cell_type": "code",
      "source": [
        "# search xxx in the list\n",
        "# note that ABC is not the first element but AAA\n",
        "# here since -r is not mentioned it will take default best of 5\n",
        "\n",
        "%timeit -n 100 'ABC' in letters_list \n",
        "\n",
        "%timeit -n 100 'PQR' in letters_list"
      ],
      "metadata": {
        "id": "RGZr_7OvxJmU"
      },
      "execution_count": null,
      "outputs": []
    },
    {
      "cell_type": "markdown",
      "source": [
        "## **Plot search time vs size of the list**"
      ],
      "metadata": {
        "id": "hIlYmPrKDwC5"
      }
    },
    {
      "cell_type": "code",
      "source": [
        "import numpy as np\n",
        "import matplotlib.pyplot as plt\n",
        "\n",
        "print(np.random.randint(0, 3, 2))"
      ],
      "metadata": {
        "id": "uRB60wyk6tnp"
      },
      "execution_count": null,
      "outputs": []
    },
    {
      "cell_type": "code",
      "source": [
        "import matplotlib.pyplot as plt\n",
        "\n",
        "mycode = '''\n",
        "def check_membership(elem):\n",
        "    return elem in numbers_list\n",
        "check_membership(i)\n",
        "'''\n",
        "times = []\n",
        "for i in range(0,100000,10):\n",
        "    numbers_list = np.random.randint(0, i, i)\n",
        "    total_time = timeit.timeit(mycode, number = 5, globals=globals())\n",
        "    \n",
        "    times.append(total_time / 5)\n",
        "\n",
        "plt.plot(times)\n",
        "plt.xlabel('Size of the list')\n",
        "plt.ylabel('Lookup time')\n",
        "plt.show()"
      ],
      "metadata": {
        "id": "L-F07uTVxhdh"
      },
      "execution_count": null,
      "outputs": []
    },
    {
      "cell_type": "markdown",
      "source": [
        "### **Dictionary**\n",
        "- Dictionaries are implemented as a Hash table, which hash the key\n",
        "- _Dicts_ and _sets_ are fast when looking up elements. \n",
        "- Insert, search and delete operations are O(1)"
      ],
      "metadata": {
        "id": "60CyYyTLy978"
      }
    },
    {
      "cell_type": "code",
      "source": [
        "letters_dict = {x: x for x in letters_list}\n",
        "# Time how long it takes to find ‘abc’ and 'pqr'in letters_dict.\n",
        "\n",
        "print(letters_dict)\n",
        "\n",
        "print('in dict')\n",
        "%timeit -n 100 'ABC' in letters_dict\n",
        "%timeit -n 100 'PQR' in letters_dict"
      ],
      "metadata": {
        "id": "LvreHCpWzEiJ"
      },
      "execution_count": null,
      "outputs": []
    },
    {
      "cell_type": "code",
      "source": [
        "mycode = '''\n",
        "def check_membership(elem):\n",
        "    return elem in numbers_dict\n",
        "check_membership(i)\n",
        "'''\n",
        "times = []\n",
        "for i in range(0,10000,10):\n",
        "    numbers_list = np.random.randint(0,i,i)\n",
        "    numbers_dict = {k:k for k in numbers_list}\n",
        "    total_time = timeit.timeit(mycode, number = 5, globals=globals())\n",
        "    \n",
        "    times.append(total_time/5)\n",
        "\n",
        "\n",
        "plt.plot(times)\n",
        "plt.xlabel('Size of the dictionary')\n",
        "plt.ylabel('Lookup time')"
      ],
      "metadata": {
        "id": "Saz-3LBfzWtL"
      },
      "execution_count": null,
      "outputs": []
    },
    {
      "cell_type": "code",
      "source": [
        ""
      ],
      "metadata": {
        "id": "aIY4a3qKTr30"
      },
      "execution_count": null,
      "outputs": []
    },
    {
      "cell_type": "markdown",
      "source": [
        "**reference https://towardsdatascience.com/which-python-data-structure-should-you-use-fa1edd82946c#:~:text=OOP%20requires%20the%20use%20of,tuples%2C%20dictionaries%2C%20and%20sets.**\n",
        "\n",
        "**List** \n",
        "- mutable\n",
        "- ordered \n",
        "- used to save data\n",
        "\n",
        "**Tuple**\n",
        "- immutable\n",
        "- ordered\n",
        "\n",
        "**Set**\n",
        "- unordered\n",
        "- unique data\n",
        "\n",
        "**Dictionary**\n",
        "- implemented as a hashtable\n",
        "- search, delete, update operations"
      ],
      "metadata": {
        "id": "1zhFa4NjSMMk"
      }
    },
    {
      "cell_type": "markdown",
      "source": [
        "### **Function Choice: String Concatenation**"
      ],
      "metadata": {
        "id": "4GIFLack-DMG"
      }
    },
    {
      "cell_type": "markdown",
      "source": [
        "- Python strings are immutable.\n",
        "- str1 + str2 creates a new string.\n",
        "- This copying can lead to significant slowdown (use''.join instead)\n",
        "- https://towardsdatascience.com/do-not-use-to-join-strings-in-python-f89908307273"
      ],
      "metadata": {
        "id": "6X9akF8f-GIM"
      }
    },
    {
      "cell_type": "code",
      "source": [
        "def method1():\n",
        "    out_str = ''\n",
        "    global loop_count\n",
        "    for num in range(loop_count):\n",
        "        out_str += 'num'\n",
        "    return out_str\n",
        "\n",
        "'''\n",
        "def method2():\n",
        "    str_list = []\n",
        "    global loop_count\n",
        "    for num in range(loop_count):\n",
        "        str_list.append('num')\n",
        "    return ''.join(str_list)\n",
        "'''\n",
        "#range() 0 1 2 3 4 5..... passed_param\n",
        "\n",
        "def method3():\n",
        "    global loop_count\n",
        "    return ''.join(['num' for i in range(loop_count)])\n",
        "\n",
        "loop_count = 100000\n",
        "\n",
        "%timeit -n 10 method1()\n",
        "#%timeit -n 10 method2()\n",
        "%timeit -n 10 method3()"
      ],
      "metadata": {
        "id": "Uz8mtUhm-LSZ"
      },
      "execution_count": null,
      "outputs": []
    },
    {
      "cell_type": "markdown",
      "source": [
        "### **Optimizing loops**\n",
        "\n",
        "- Avoid for loops, use map or numpy operations\n",
        "- Numpy is faster due to vectorized implementations\n",
        "\n",
        "Multiply two 100x100 matrices"
      ],
      "metadata": {
        "id": "YwpoPTqvJrOM"
      }
    },
    {
      "cell_type": "code",
      "source": [
        "N = 100\n",
        "matrix1 = np.random.random((N,N))\n",
        "matrix2 = np.random.random((N,N))"
      ],
      "metadata": {
        "id": "TS7mjvBkN_gR"
      },
      "execution_count": null,
      "outputs": []
    },
    {
      "cell_type": "markdown",
      "source": [
        "### **How fast is  For loop ?**\n",
        "\n",
        "- multiplication of 2 matrix"
      ],
      "metadata": {
        "id": "bumvEDASODkZ"
      }
    },
    {
      "cell_type": "code",
      "source": [
        "%%timeit -n 1\n",
        "\n",
        "def multiply(x,y):\n",
        "\n",
        "    m1,n1 = x.shape\n",
        "    m2,n2 = y.shape\n",
        "    \n",
        "    assert(n1 == m2)\n",
        "    z = np.zeros((m1,n2))\n",
        "\n",
        "    for i in range(m1): \n",
        "        for j in range(n2): \n",
        "            for k in range(m2): \n",
        "                z[i][j] += x[i][k] * y[k][j]\n",
        "                \n",
        "    return z\n",
        "\n",
        "multiply(matrix1, matrix2)\n"
      ],
      "metadata": {
        "colab": {
          "base_uri": "https://localhost:8080/"
        },
        "id": "Q51U00KmW8Lu",
        "outputId": "7a3d9225-dfbb-4a2b-d4c2-37205deb1d63"
      },
      "execution_count": null,
      "outputs": [
        {
          "output_type": "stream",
          "name": "stdout",
          "text": [
            "1 loop, best of 5: 1.45 s per loop\n"
          ]
        }
      ]
    },
    {
      "cell_type": "markdown",
      "source": [
        "### **How fast is numpy?**\n",
        "\n",
        "- we check this by multiplying the same arrays.\n",
        "- why is numpy faster\n",
        "  - NumPy uses a highly-optimized, carefully-tuned BLAS method for matrix multiplication. The specific function in this case is GEMM (for generic matrix multiplication).https://stackoverflow.com/questions/10442365/why-is-matrix-multiplication-faster-with-numpy-than-with-ctypes-in-python\n",
        "  - BLAS algorithm - https://www.quora.com/What-algorithm-does-BLAS-use-for-matrix-multiplication-Of-all-the-considerations-e-g-cache-popular-instruction-sets-Big-O-etc-which-one-turned-out-to-be-the-primary-bottleneck"
      ],
      "metadata": {
        "id": "eTlgx3QtSJ22"
      }
    },
    {
      "cell_type": "code",
      "source": [
        "%%timeit -n 1\n",
        "\n",
        "def mod_multiply(x,y):\n",
        "    \"\"\"\n",
        "    Multiply two arrays using numpy.\n",
        "    \"\"\"\n",
        "    return np.matmul(x,y)\n",
        "\n",
        "mod_multiply(matrix1, matrix2)"
      ],
      "metadata": {
        "id": "SUTh4Zn8RQps"
      },
      "execution_count": null,
      "outputs": []
    },
    {
      "cell_type": "markdown",
      "source": [
        "### **Decorators**\n",
        "\n",
        "In Python, functions are the first class objects, which means that:\n",
        "\n",
        "- Functions are objects; they can be referenced to, passed to a variable and returned from other functions as well.\n",
        "\n",
        "- Functions are taken as the argument into another function and then called inside the wrapper function.\n",
        "\n",
        "- easily add functionality to an existing function by adding to wrapper that functionality functions\n",
        "\n",
        "- https://www.youtube.com/watch?v=FsAPt_9Bf3U\n"
      ],
      "metadata": {
        "id": "iqzH8DnrSnfW"
      }
    },
    {
      "cell_type": "code",
      "source": [
        "# defining a decorator, pass in \"func\", return \"wrapper\"\n",
        "\n",
        "def my_decorator(func):\n",
        "    \n",
        "    def wrapper():\n",
        "        print(\"Something is happening before the function is called.\")\n",
        "        func()\n",
        "        print(\"Something is happening after the function is called.\")\n",
        "    return wrapper\n",
        "\n",
        "def say_hi():\n",
        "    print(\"Hi!\")\n",
        "\n",
        "say_hi()\n",
        "\n",
        "print()\n",
        "\n",
        "say_hi = my_decorator(say_hi)\n",
        "say_hi()"
      ],
      "metadata": {
        "id": "xsecljKqSrw4"
      },
      "execution_count": null,
      "outputs": []
    },
    {
      "cell_type": "code",
      "source": [
        "@my_decorator\n",
        "def say_whee():\n",
        "    print(\"Whee!\")\n",
        "say_whee()"
      ],
      "metadata": {
        "id": "1cfuxloeSuNz"
      },
      "execution_count": null,
      "outputs": []
    },
    {
      "cell_type": "code",
      "source": [
        "## Showing args and kwargs for decorators\n",
        "#kwargs - key word arguments\n",
        "def decorator_with_args(func):\n",
        "    \n",
        "    def wrapper(*args, **kwargs):\n",
        "        print(\"Something is happening before the function is called.\")\n",
        "        func(*args, **kwargs)\n",
        "        print(\"Something is happening after the function is called.\")\n",
        "    return wrapper\n",
        "\n",
        "\n",
        "@decorator_with_args\n",
        "def say_hi_withargs(*args, **kwargs):\n",
        "    for arg in args:\n",
        "      print(arg)\n",
        "    if 'course' in kwargs:\n",
        "        print('Course: ', kwargs['course'])\n",
        "        \n",
        "say_hi_withargs('Welcome to ', 'Lab 2',course='Python')"
      ],
      "metadata": {
        "id": "65pS9Q6fSxis"
      },
      "execution_count": null,
      "outputs": []
    }
  ]
}